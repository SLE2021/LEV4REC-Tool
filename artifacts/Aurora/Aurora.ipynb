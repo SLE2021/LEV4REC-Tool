{
 "cells": [
  {
   "cell_type": "markdown",
   "metadata": {},
   "source": [
    "# Lowcode model generator\n",
    "Generated recommneder system from model."
   ]
  },
  {
   "cell_type": "code",
   "execution_count": 1,
   "metadata": {},
   "outputs": [
    {
     "name": "stdout",
     "output_type": "stream",
     "text": [
      "7.104203352439993\n",
      "7.771529406266248\n",
      "7.053656578929853\n",
      "[0 1]\n"
     ]
    }
   ],
   "source": [
    "import pandas as pd\n",
    "\n",
    "dataset=pd.read_csv('Social_Network_Ads.csv')\n",
    "X = dataset.iloc[:, :-1].values\n",
    "\n",
    "\n",
    "n_splits=10\n",
    "prec_all = 0\n",
    "acc_all = 0\n",
    "rec_all = 0\n",
    "f1_all = 0\n",
    "from sklearn.model_selection import  KFold\n",
    "kf = KFold(n_splits = n_splits)\n",
    "for  train, test in kf.split(X):\n",
    "    X_split, X_test, y_split, y_test = X[train],X[test], y[train], y[test]\n",
    "    from sklearn.preprocessing import StandardScaler\n",
    "    sc = StandardScaler()\n",
    "    X_train = sc.fit_transform(X_split)\n",
    "    X_test = sc.transform(X_test)\n",
    "    \n",
    "    from sklearn.neural_network import MLPClassifier\n",
    "    solver='adam'\n",
    "    hidden_layers=(5, 2)\n",
    "    random_state=1\n",
    "    alpha=1e-5\n",
    "\n",
    "    clf = MLPClassifier(solver=solver, alpha=alpha,hidden_layer_sizes=hidden_layers, random_state=random_state)\n",
    "\n",
    "\n",
    "\n",
    "\n",
    "    from sklearn.metrics import precision_score\n",
    "    precision = precision_score(y_pred, y_test, average=None)\n",
    "    prec_all = prec_all + sum(precision)/len(precision)\t\n",
    "    from sklearn.metrics import recall_score\n",
    "    recall = recall_score(y_pred, y_test, average=None)\n",
    "    rec_all = rec_all + sum(recall)/len(recall)\n",
    "    from sklearn.metrics import f1_score\n",
    "    f1 = f1_score(y_pred, y_test, average=None)\n",
    "    f1_all = f1_all + sum(f1)/len(f1)\n",
    "    \n",
    "    \n",
    "print(prec_all)\n",
    "print(rec_all)\n",
    "print(f1_all)\n",
    "print(y_pred_context)\n",
    "\n",
    "\n",
    "\n",
    "\n",
    "\n",
    "\n"
   ]
  },
  {
   "cell_type": "code",
   "execution_count": null,
   "metadata": {},
   "outputs": [],
   "source": []
  }
 ],
 "metadata": {
  "kernelspec": {
   "display_name": "Python 3",
   "language": "python",
   "name": "python3"
  },
  "language_info": {
   "codemirror_mode": {
    "name": "ipython",
    "version": 3
   },
   "file_extension": ".py",
   "mimetype": "text/x-python",
   "name": "python",
   "nbconvert_exporter": "python",
   "pygments_lexer": "ipython3",
   "version": "3.7.3"
  }
 },
 "nbformat": 4,
 "nbformat_minor": 5
}
